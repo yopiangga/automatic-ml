{
 "cells": [
  {
   "cell_type": "code",
   "execution_count": 1,
   "id": "ce500fd6",
   "metadata": {},
   "outputs": [],
   "source": [
    "import numpy as np\n",
    "import pandas as pd\n",
    "import matplotlib.pyplot as plt\n",
    "import datetime"
   ]
  },
  {
   "cell_type": "code",
   "execution_count": 7,
   "id": "d6401055",
   "metadata": {},
   "outputs": [],
   "source": [
    "current_date = \"2025-06-28\"\n",
    "last_time = \"2025-06-21\""
   ]
  },
  {
   "cell_type": "code",
   "execution_count": 23,
   "id": "bf28e773",
   "metadata": {},
   "outputs": [
    {
     "name": "stderr",
     "output_type": "stream",
     "text": [
      "/var/folders/f_/6qb27cbx2zzfg90nrc4k14dc0000gn/T/ipykernel_62183/1232910039.py:9: SettingWithCopyWarning: \n",
      "A value is trying to be set on a copy of a slice from a DataFrame.\n",
      "Try using .loc[row_indexer,col_indexer] = value instead\n",
      "\n",
      "See the caveats in the documentation: https://pandas.pydata.org/pandas-docs/stable/user_guide/indexing.html#returning-a-view-versus-a-copy\n",
      "  actual[\"date\"] = actual[\"date\"].astype(\"str\")\n"
     ]
    }
   ],
   "source": [
    "df_emas = pd.read_csv(f\"../data/{current_date}/emas.csv\")\n",
    "df_emas = df_emas[[\"buy\", \"updated_at\"]]\n",
    "df_emas.rename(columns={'updated_at': 'date'}, inplace=True)\n",
    "\n",
    "df_emas[\"date\"] = df_emas[\"date\"].apply(lambda x: datetime.datetime.strptime(x[:10], \"%Y-%m-%d\"))\n",
    "\n",
    "data = df_emas.sort_values(by='date', ascending=True)\n",
    "actual = data[-7:]\n",
    "actual[\"date\"] = actual[\"date\"].astype(\"str\")"
   ]
  },
  {
   "cell_type": "code",
   "execution_count": 37,
   "id": "deb7d744",
   "metadata": {},
   "outputs": [],
   "source": [
    "predict = pd.read_csv(f\"../data/{last_time}/predicted_prices.csv\")\n",
    "predict = predict.rename(columns={\"Predicted Price\": \"predict\"})"
   ]
  },
  {
   "cell_type": "code",
   "execution_count": 38,
   "id": "746819a7",
   "metadata": {},
   "outputs": [
    {
     "data": {
      "text/html": [
       "<div>\n",
       "<style scoped>\n",
       "    .dataframe tbody tr th:only-of-type {\n",
       "        vertical-align: middle;\n",
       "    }\n",
       "\n",
       "    .dataframe tbody tr th {\n",
       "        vertical-align: top;\n",
       "    }\n",
       "\n",
       "    .dataframe thead th {\n",
       "        text-align: right;\n",
       "    }\n",
       "</style>\n",
       "<table border=\"1\" class=\"dataframe\">\n",
       "  <thead>\n",
       "    <tr style=\"text-align: right;\">\n",
       "      <th></th>\n",
       "      <th>buy</th>\n",
       "      <th>date</th>\n",
       "    </tr>\n",
       "  </thead>\n",
       "  <tbody>\n",
       "    <tr>\n",
       "      <th>6</th>\n",
       "      <td>1843593</td>\n",
       "      <td>2025-06-22</td>\n",
       "    </tr>\n",
       "    <tr>\n",
       "      <th>5</th>\n",
       "      <td>1843180</td>\n",
       "      <td>2025-06-23</td>\n",
       "    </tr>\n",
       "    <tr>\n",
       "      <th>4</th>\n",
       "      <td>1838732</td>\n",
       "      <td>2025-06-24</td>\n",
       "    </tr>\n",
       "    <tr>\n",
       "      <th>3</th>\n",
       "      <td>1845558</td>\n",
       "      <td>2025-06-25</td>\n",
       "    </tr>\n",
       "    <tr>\n",
       "      <th>2</th>\n",
       "      <td>1872029</td>\n",
       "      <td>2025-06-26</td>\n",
       "    </tr>\n",
       "    <tr>\n",
       "      <th>1</th>\n",
       "      <td>1861073</td>\n",
       "      <td>2025-06-27</td>\n",
       "    </tr>\n",
       "    <tr>\n",
       "      <th>0</th>\n",
       "      <td>1847496</td>\n",
       "      <td>2025-06-28</td>\n",
       "    </tr>\n",
       "  </tbody>\n",
       "</table>\n",
       "</div>"
      ],
      "text/plain": [
       "       buy        date\n",
       "6  1843593  2025-06-22\n",
       "5  1843180  2025-06-23\n",
       "4  1838732  2025-06-24\n",
       "3  1845558  2025-06-25\n",
       "2  1872029  2025-06-26\n",
       "1  1861073  2025-06-27\n",
       "0  1847496  2025-06-28"
      ]
     },
     "execution_count": 38,
     "metadata": {},
     "output_type": "execute_result"
    }
   ],
   "source": [
    "actual"
   ]
  },
  {
   "cell_type": "code",
   "execution_count": 39,
   "id": "e9b3f1dc",
   "metadata": {},
   "outputs": [
    {
     "data": {
      "text/html": [
       "<div>\n",
       "<style scoped>\n",
       "    .dataframe tbody tr th:only-of-type {\n",
       "        vertical-align: middle;\n",
       "    }\n",
       "\n",
       "    .dataframe tbody tr th {\n",
       "        vertical-align: top;\n",
       "    }\n",
       "\n",
       "    .dataframe thead th {\n",
       "        text-align: right;\n",
       "    }\n",
       "</style>\n",
       "<table border=\"1\" class=\"dataframe\">\n",
       "  <thead>\n",
       "    <tr style=\"text-align: right;\">\n",
       "      <th></th>\n",
       "      <th>predict</th>\n",
       "      <th>Date</th>\n",
       "    </tr>\n",
       "  </thead>\n",
       "  <tbody>\n",
       "    <tr>\n",
       "      <th>0</th>\n",
       "      <td>1876996.1</td>\n",
       "      <td>2025-06-22</td>\n",
       "    </tr>\n",
       "    <tr>\n",
       "      <th>1</th>\n",
       "      <td>1879543.8</td>\n",
       "      <td>2025-06-23</td>\n",
       "    </tr>\n",
       "    <tr>\n",
       "      <th>2</th>\n",
       "      <td>1882890.6</td>\n",
       "      <td>2025-06-24</td>\n",
       "    </tr>\n",
       "    <tr>\n",
       "      <th>3</th>\n",
       "      <td>1886828.6</td>\n",
       "      <td>2025-06-25</td>\n",
       "    </tr>\n",
       "    <tr>\n",
       "      <th>4</th>\n",
       "      <td>1891197.2</td>\n",
       "      <td>2025-06-26</td>\n",
       "    </tr>\n",
       "    <tr>\n",
       "      <th>5</th>\n",
       "      <td>1895877.8</td>\n",
       "      <td>2025-06-27</td>\n",
       "    </tr>\n",
       "    <tr>\n",
       "      <th>6</th>\n",
       "      <td>1900782.5</td>\n",
       "      <td>2025-06-28</td>\n",
       "    </tr>\n",
       "  </tbody>\n",
       "</table>\n",
       "</div>"
      ],
      "text/plain": [
       "     predict        Date\n",
       "0  1876996.1  2025-06-22\n",
       "1  1879543.8  2025-06-23\n",
       "2  1882890.6  2025-06-24\n",
       "3  1886828.6  2025-06-25\n",
       "4  1891197.2  2025-06-26\n",
       "5  1895877.8  2025-06-27\n",
       "6  1900782.5  2025-06-28"
      ]
     },
     "execution_count": 39,
     "metadata": {},
     "output_type": "execute_result"
    }
   ],
   "source": [
    "predict"
   ]
  },
  {
   "cell_type": "code",
   "execution_count": 47,
   "id": "6a1c726f",
   "metadata": {},
   "outputs": [],
   "source": [
    "combine = pd.merge(actual, predict, left_on='date', right_on='Date', how='inner')\n",
    "combine = combine[[\"date\", \"buy\", \"predict\"]]\n",
    "combine[\"error\"] = abs(combine[\"buy\"] - combine[\"predict\"])"
   ]
  },
  {
   "cell_type": "code",
   "execution_count": 48,
   "id": "14a0e23c",
   "metadata": {},
   "outputs": [
    {
     "data": {
      "text/html": [
       "<div>\n",
       "<style scoped>\n",
       "    .dataframe tbody tr th:only-of-type {\n",
       "        vertical-align: middle;\n",
       "    }\n",
       "\n",
       "    .dataframe tbody tr th {\n",
       "        vertical-align: top;\n",
       "    }\n",
       "\n",
       "    .dataframe thead th {\n",
       "        text-align: right;\n",
       "    }\n",
       "</style>\n",
       "<table border=\"1\" class=\"dataframe\">\n",
       "  <thead>\n",
       "    <tr style=\"text-align: right;\">\n",
       "      <th></th>\n",
       "      <th>date</th>\n",
       "      <th>buy</th>\n",
       "      <th>predict</th>\n",
       "      <th>error</th>\n",
       "    </tr>\n",
       "  </thead>\n",
       "  <tbody>\n",
       "    <tr>\n",
       "      <th>0</th>\n",
       "      <td>2025-06-22</td>\n",
       "      <td>1843593</td>\n",
       "      <td>1876996.1</td>\n",
       "      <td>33403.1</td>\n",
       "    </tr>\n",
       "    <tr>\n",
       "      <th>1</th>\n",
       "      <td>2025-06-23</td>\n",
       "      <td>1843180</td>\n",
       "      <td>1879543.8</td>\n",
       "      <td>36363.8</td>\n",
       "    </tr>\n",
       "    <tr>\n",
       "      <th>2</th>\n",
       "      <td>2025-06-24</td>\n",
       "      <td>1838732</td>\n",
       "      <td>1882890.6</td>\n",
       "      <td>44158.6</td>\n",
       "    </tr>\n",
       "    <tr>\n",
       "      <th>3</th>\n",
       "      <td>2025-06-25</td>\n",
       "      <td>1845558</td>\n",
       "      <td>1886828.6</td>\n",
       "      <td>41270.6</td>\n",
       "    </tr>\n",
       "    <tr>\n",
       "      <th>4</th>\n",
       "      <td>2025-06-26</td>\n",
       "      <td>1872029</td>\n",
       "      <td>1891197.2</td>\n",
       "      <td>19168.2</td>\n",
       "    </tr>\n",
       "    <tr>\n",
       "      <th>5</th>\n",
       "      <td>2025-06-27</td>\n",
       "      <td>1861073</td>\n",
       "      <td>1895877.8</td>\n",
       "      <td>34804.8</td>\n",
       "    </tr>\n",
       "    <tr>\n",
       "      <th>6</th>\n",
       "      <td>2025-06-28</td>\n",
       "      <td>1847496</td>\n",
       "      <td>1900782.5</td>\n",
       "      <td>53286.5</td>\n",
       "    </tr>\n",
       "  </tbody>\n",
       "</table>\n",
       "</div>"
      ],
      "text/plain": [
       "         date      buy    predict    error\n",
       "0  2025-06-22  1843593  1876996.1  33403.1\n",
       "1  2025-06-23  1843180  1879543.8  36363.8\n",
       "2  2025-06-24  1838732  1882890.6  44158.6\n",
       "3  2025-06-25  1845558  1886828.6  41270.6\n",
       "4  2025-06-26  1872029  1891197.2  19168.2\n",
       "5  2025-06-27  1861073  1895877.8  34804.8\n",
       "6  2025-06-28  1847496  1900782.5  53286.5"
      ]
     },
     "execution_count": 48,
     "metadata": {},
     "output_type": "execute_result"
    }
   ],
   "source": [
    "combine"
   ]
  }
 ],
 "metadata": {
  "kernelspec": {
   "display_name": "3.12",
   "language": "python",
   "name": "python3"
  },
  "language_info": {
   "codemirror_mode": {
    "name": "ipython",
    "version": 3
   },
   "file_extension": ".py",
   "mimetype": "text/x-python",
   "name": "python",
   "nbconvert_exporter": "python",
   "pygments_lexer": "ipython3",
   "version": "3.12.11"
  }
 },
 "nbformat": 4,
 "nbformat_minor": 5
}
